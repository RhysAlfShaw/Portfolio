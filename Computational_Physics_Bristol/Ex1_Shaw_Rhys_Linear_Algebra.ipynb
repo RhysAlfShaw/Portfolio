{
 "cells": [
  {
   "cell_type": "markdown",
   "metadata": {},
   "source": [
    "# Assignment 1 - Linear Algebra\n",
    "\n",
    "\n",
    "In this exercise, you will investigate various aspects of linear algebra.\n",
    "\n",
    "* Use appropriate functions\n",
    "* Comment your code.\n",
    "* Use numpy/scipy libraries where appropriate, except where explicitly stated.\n",
    "\n",
    "For each question where you are asked to write some code, you will also be asked to _briefly_ describe what you have done in a text cell below.  \n"
   ]
  },
  {
   "cell_type": "markdown",
   "metadata": {},
   "source": [
    "## Q1\n",
    "\n",
    "In this part you will need to use the matrix inversion code based on Cramer's rule, posted in the matrix-inversion notebook on Blackboard. Cut and paste the necessary functions into the cell below."
   ]
  },
  {
   "cell_type": "code",
   "execution_count": null,
   "metadata": {
    "nbgrader": {
     "grade": true,
     "grade_id": "cell-7e25969def438bd8",
     "locked": false,
     "points": 1,
     "schema_version": 1,
     "solution": true
    }
   },
   "outputs": [],
   "source": [
    "import numpy as np\n",
    "import scipy.linalg\n",
    "import math\n",
    "\n",
    "def det2x2(m):\n",
    "    if m.shape[0] != 2 or m.shape[1] != 2:\n",
    "        raise Exception(\"Non2x2Matrix\")\n",
    "    \n",
    "    return ( m[0][0]*m[1][1] ) - ( m[0][1]*m[1][0] )\n",
    "\n",
    "def inverse2x2(m):\n",
    "    if m.shape[0] != 2 or m.shape[1] != 2: # seemed to be a typo here \n",
    "        raise Exception(\"Non2x2Matrix\")\n",
    "\n",
    "    det = det2x2(m)\n",
    "    tmp = np.empty([2,2])\n",
    "    tmp[0][0] = m[1][1] / det\n",
    "    tmp[0][1] = -1 * m[0][1] / det\n",
    "    tmp[1][0] = -1 * m[1][0] / det\n",
    "    tmp[1][1] = m[0][0] / det\n",
    "    return tmp\n",
    "# this submatrix definition makes\n",
    "def submatrix(m,i,j):                                \n",
    "    if not (m.shape[0] == m.shape[1]):\n",
    "        raise Exception(\"NonSquareMatrix\")\n",
    "    \n",
    "    # create a new matrix\n",
    "    n = m.shape[0]-1\n",
    "    tmp = np.empty([n,n])\n",
    "    \n",
    "    # get the indices of the matrix that will be used\n",
    "    tmpi = list(range(m.shape[0]))\n",
    "    del tmpi[i]\n",
    "    tmpj = list(range(m.shape[1]))\n",
    "    del tmpj[j]\n",
    "    \n",
    "    for ii in range(n):\n",
    "        for jj in range(n):\n",
    "            tmp[ii][jj] = m[tmpi[ii]][tmpj[jj]]\n",
    "\n",
    "    return tmp\n",
    "\n",
    "\n",
    "def det(m):\n",
    "    if not (m.shape[0] == m.shape[1]):\n",
    "        raise Exception(\"NonSquareMatrix\")\n",
    "    \n",
    "    if (m.shape[0]==2):\n",
    "        return det2x2(m)\n",
    "        \n",
    "    else:\n",
    "        tmp = 0\n",
    "        # use 0-th row to calculate determinant\n",
    "        for j in range(m.shape[0]):\n",
    "            tmp = tmp + (math.pow(-1,j) * m[0][j] * det(submatrix(m,0,j)))\n",
    "    \n",
    "    return tmp\n",
    "\n",
    "def adjugate(m):\n",
    "    if not (m.shape[0] == m.shape[1]):\n",
    "        raise Exception(\"NonSquareMatrix\")\n",
    "    \n",
    "    tmp = np.empty(m.shape)\n",
    "    \n",
    "    for i in range(m.shape[0]):\n",
    "        for j in range(m.shape[1]):\n",
    "            # note the order of indices below !\n",
    "            tmp[j][i] = (math.pow(-1,i+j) * det(submatrix(m,i,j)))\n",
    "    return tmp\n",
    "\n",
    "\n",
    "def inverse(m):\n",
    "    if not (m.shape[0] == m.shape[1]):\n",
    "        raise Exception(\"NonSquareMatrix\")\n",
    "    \n",
    "    if m.shape[0]==2:\n",
    "        return inverse2x2(m)\n",
    "    \n",
    "    d = det(m)        \n",
    "    c = adjugate(m)\n",
    "    return np.true_divide(c,d)\n",
    "\n"
   ]
  },
  {
   "cell_type": "markdown",
   "metadata": {},
   "source": [
    "## 1a)\n",
    "Verify that the code produces the correct result for a single _randomly_ generated 4x4 matrix. Make sure you account for possible rounding error due to limited floating point precision. "
   ]
  },
  {
   "cell_type": "code",
   "execution_count": null,
   "metadata": {
    "nbgrader": {
     "grade": true,
     "grade_id": "cell-fea08fd2200067f6",
     "locked": false,
     "points": 2,
     "schema_version": 1,
     "solution": true
    },
    "scrolled": false
   },
   "outputs": [],
   "source": [
    "import numpy as np\n",
    "def RADmat(N):\n",
    "    random_matrix = np.random.rand(N,N)\n",
    "    random_matrix2 = np.random.randint(-100,100,[N,N])\n",
    "    rad = np.multiply(random_matrix, random_matrix2) # multiplies the two matrices\n",
    "    return rad\n",
    "I = RADmat(4)\n",
    "inv = inverse(I)\n",
    "\n",
    "print('Randomly generated matrix:\\n',I)\n",
    "print('Inversion of the above matirx using Cramers rule:\\n', inv)\n",
    "print('numpy function intersion:\\n',scipy.linalg.inv(I))\n"
   ]
  },
  {
   "cell_type": "markdown",
   "metadata": {},
   "source": [
    "## 1b)\n",
    "Plot the cpu-time taken to solve a randomly generated simultaneous equation as a function of the matrix order N. Your plot should contain 3 lines, for each of the following methods :\n",
    "1. the matrix inversion function above based on Cramer's rule\n",
    "2. LU decomposition using scipy\n",
    "3. SVD decomposition using scipy\n",
    "\n",
    "Note that you will need to generate both a random NxN matrix, and a random set of solutions. You will need to think about how you're going to handle errors (eg. if you generate a random matrix that is singular). You will need to look up the LU and SVD decomposition routines in the scipy reference manual (https://docs.scipy.org/doc/scipy/reference/), and make sure that your treatment of each routine is \"fair\", i.e. performs the same calculation.\n",
    "\n",
    "You may want to read up on these methods in Numerical Recipes. The 3rd edition is available free online at http://numerical.recipes/oldverswitcher.html. LU decomposition is on p48 and SVD decomposition is on p65 in this edition.\n",
    "\n",
    "Finally, write a paragraph describing your code in the text cell below : how you designed the code, what choices you had to make, and why - in particular how you deal with the issues raised above."
   ]
  },
  {
   "cell_type": "code",
   "execution_count": null,
   "metadata": {
    "nbgrader": {
     "grade": true,
     "grade_id": "cell-1bd4e80009bc8e57",
     "locked": false,
     "points": 0,
     "schema_version": 1,
     "solution": true
    }
   },
   "outputs": [],
   "source": [
    "##currently only 1st aprt done, need to learn the other methods.\n",
    "# to generate a figure for matrix inversion based n Cramer's Rule:\n",
    "import time\n",
    "import matplotlib.pylab as plt\n",
    "\n",
    "def RADSOLs(N): #generates random set of solutions.\n",
    "    random_solsdec = np.random.rand(N,1)\n",
    "    random_solsint = np.random.randint(-100,100,[N,1])\n",
    "    random_sols = np.multiply(random_solsint,random_solsdec)\n",
    "    return random_sols\n",
    "\n",
    "def Matrix_time_cramers(N): #calculates it for the Cramer's rule method\n",
    "    n=1\n",
    "    t = [0]\n",
    "    Nx = [0]\n",
    "    while n <= N:   \n",
    "        n=n+1\n",
    "        tic = time.perf_counter()\n",
    "        inv = inverse(RADmat(n))\n",
    "        solution = np.matmul(inv,RADSOLs(n))#solves the simultanoeous equations\n",
    "        toc = time.perf_counter()\n",
    "        t.append((toc-tic))\n",
    "        Nx.append(n)\n",
    "    return t, Nx   \n",
    "\n",
    "def Matrix_time_LU(N): #calculates solutions using LU decomposition\n",
    "    n=1\n",
    "    t = [0]\n",
    "    Nx = [0]\n",
    "    while n <= N:   \n",
    "        n=n+1\n",
    "        tic = time.perf_counter()\n",
    "        lu = scipy.linalg.lu_factor(RADmat(n))\n",
    "        x = scipy.linalg.lu_solve(lu,RADSOLs(n))\n",
    "        toc = time.perf_counter()\n",
    "        t.append((toc-tic))\n",
    "        Nx.append(n)\n",
    "    return t, Nx \n",
    "\n",
    "def Matrix_time_SVD(N): #calculates solutions using SVD decomposition\n",
    "    n=1\n",
    "    t = [0]\n",
    "    Nx = [0]\n",
    "    while n <= N:   \n",
    "        n=n+1\n",
    "        tic = time.perf_counter()\n",
    "        U,s,V = scipy.linalg.svd(RADmat(n))\n",
    "        svd = np.dot(np.dot(np.dot(V.T,scipy.linalg.inv(np.diag(s))),U.T),RADSOLs(n))\n",
    "        toc = time.perf_counter()\n",
    "        t.append((toc-tic))\n",
    "        Nx.append(n)\n",
    "    return t, Nx \n",
    "\n",
    "Max = Matrix_time_cramers(6) \n",
    "MATLU = Matrix_time_LU(6)\n",
    "MATSVD = Matrix_time_SVD(6)\n",
    "\n",
    "plt.plot(Max[0],Max[1],label = 'Cramers rule')\n",
    "plt.plot(MATLU[0],MATLU[1], label = 'LU decomposition')\n",
    "plt.plot(MATSVD[0],MATSVD[1], label = 'SVD decomposition')\n",
    "plt.title('CPU TIME for different size random matrices')\n",
    "plt.xlabel('CPU TIME (s)')\n",
    "plt.ylabel('Number of square matrix columns')\n",
    "plt.legend()\n",
    "plt.show()\n",
    "\n",
    "MATLU2 = Matrix_time_LU(100)\n",
    "MATSVD2 = Matrix_time_SVD(100)\n",
    "\n",
    "plt.plot(MATLU2[0],MATLU2[1], label = 'LU decomposition')\n",
    "plt.plot(MATSVD2[0],MATSVD2[1], label = 'SVD decomposition')\n",
    "plt.xlabel('CPU TIME (s)')\n",
    "plt.ylabel('Number of square matrix columns')\n",
    "plt.legend()\n",
    "plt.show()\n",
    "\n",
    "\n",
    "\n"
   ]
  },
  {
   "cell_type": "markdown",
   "metadata": {
    "nbgrader": {
     "grade": true,
     "grade_id": "cell-03751361be568ee4",
     "locked": false,
     "points": 0,
     "schema_version": 1,
     "solution": true
    }
   },
   "source": [
    "Ive made the code so that the time interval is taken only across the calculation. I used time.pref_counter() to do this. I made sure that the random solutions and matrixes are calculated in the calculation zone of the code. However, note that the methods calculate a different matrix each, but this shouldnt have a big effect on the speed of the calculation.\n"
   ]
  },
  {
   "cell_type": "markdown",
   "metadata": {},
   "source": [
    "## 1c)\n",
    "Now discuss the results you obtained above. Can you explain the results in terms of the number of operations performed by each function ?  You might want to look up the **computational complexity** of these algorithms.  How well do the curves conform to your explanation ?"
   ]
  },
  {
   "cell_type": "markdown",
   "metadata": {
    "nbgrader": {
     "grade": true,
     "grade_id": "cell-04fde6fb3806d00f",
     "locked": false,
     "points": 0,
     "schema_version": 1,
     "solution": true
    }
   },
   "source": [
    "## Discussion\n",
    "It can be seen form the plots above that Cramer’s rule is the most inefficient method for\n",
    "computing the solution of simultaneous equations, when compared to LU and SVD \n",
    "decomposition. This inefficiency comes from the number of steps necessary in these methods to find the solution. \n",
    "\n",
    "For Cramer’s we see that we have several steps to complete in order to solve the equation, if your solving a nxn matrix then you will need to find n! products and because the determinate of n matrices needs to be calculated, it becomes n!n calculations. This is a complexity $O(n!n)$. This means that it can very easily become a very large number of calculations, which leads to higher computational power to compute. LU $(O(\\frac{2}{3}n^{3}))$ and SVD $(O(n^3))$ have lower computational complexity, where LU decomposition is the least complex. This is what is seen in the second figure from above. Comparing LU and SVD decomposition shows that SVD has longer CPU times for larger N matrices. Either of these two decompositions is a more efficient method to Cramer’s, with LU decomposition being the most efficient method. \n",
    "On the second graph there are noticeable spikes of longer computational time, which change when recomputing. These are likely to be anomalies from the random matrices. As a new matrix is computed for each solution method, the same spikes are not seen.\n"
   ]
  },
  {
   "cell_type": "markdown",
   "metadata": {},
   "source": [
    "## 1d)\n",
    "Next, we will study the precision of the algorithms - in particular, for near singular matrices. Write a routine that will estimate (and plot) the precision of the result when solving the equation below, for small values of k. Your function should do this for all 3 routines studied in Q1b).\n",
    "\n",
    "\\begin{eqnarray*}\n",
    "x + y + z & = & 5 \\\\\n",
    "x + 2y - z & = & 10 \\\\\n",
    "2x + 3y +kz & = & 15 \n",
    "\\end{eqnarray*}\n",
    "\n",
    "You will need to choose a method to estimate the precision, given that the equation solvers will return values for all of x, y, and z.\n",
    "\n",
    "As before, describe the functionality of the code and the choices you made writing it in the text cell below."
   ]
  },
  {
   "cell_type": "code",
   "execution_count": null,
   "metadata": {
    "nbgrader": {
     "grade": true,
     "grade_id": "cell-e7ca81f308780180",
     "locked": false,
     "points": 0,
     "schema_version": 1,
     "solution": true
    }
   },
   "outputs": [],
   "source": [
    "\n",
    "def func():\n",
    "    k = [0]\n",
    "    x_lu =[0]\n",
    "    x_svd = [0]\n",
    "    x_cra = [0]\n",
    "    for i in np.arange(0.00001,0.002,0.00001):\n",
    "        A = np.array([[1,1,1],[1,2,-1],[2,3,i]])\n",
    "        b = np.array([[5],[10],[15]])\n",
    "        lu = scipy.linalg.lu_factor(A)\n",
    "        x = scipy.linalg.lu_solve(lu,b)\n",
    "        U,s,V = scipy.linalg.svd(A)\n",
    "        svd = np.dot(np.dot(np.dot(V.T,scipy.linalg.inv(np.diag(s))),U.T),b)\n",
    "        sol = np.array([[0],[5],[0]])\n",
    "        inv = inverse(A)\n",
    "        solution = np.matmul(inv,b)\n",
    "        \n",
    "        x_lu.append(x[0] - sol[0])\n",
    "        x_svd.append(svd[0] - sol[0])\n",
    "        x_cra.append(solution[0] - sol[0])\n",
    "        k.append(i)\n",
    "    return k, x_lu,x_svd,x_cra\n",
    "\n",
    "fe = func()\n",
    "\n",
    "plt.plot(fe[0],fe[2],label='SVD')\n",
    "plt.plot(fe[0],fe[1],label='LU')\n",
    "plt.plot(fe[0],fe[3],label='Cramers')\n",
    "plt.xlabel('k')\n",
    "plt.ylabel('Precision')\n",
    "plt.legend()\n",
    "plt.show()\n"
   ]
  },
  {
   "cell_type": "markdown",
   "metadata": {
    "nbgrader": {
     "grade": true,
     "grade_id": "cell-78d0a2669ebb4e0e",
     "locked": false,
     "points": 0,
     "schema_version": 1,
     "solution": true
    }
   },
   "source": [
    "My code calculates the value of the solution with each method with different values of k. I subtract the calculated value from the known solution to give its precision. "
   ]
  },
  {
   "cell_type": "markdown",
   "metadata": {},
   "source": [
    "## 1e)\n",
    "Discuss your results in the test box below. You should describe the behaviour of each algorithm as k goes to 0, and explain what is happening in each case. How would these results affect your choice of algorithm ?"
   ]
  },
  {
   "cell_type": "markdown",
   "metadata": {
    "nbgrader": {
     "grade": true,
     "grade_id": "cell-f8d5e765aa97509e",
     "locked": false,
     "points": 0,
     "schema_version": 1,
     "solution": true
    }
   },
   "source": [
    "## Discussion\n",
    "\n",
    "To calculate the precision I looked at how the value of k changed the known solution of the matrix. I used my x value for this but it can be used for any of the values.\n",
    "It can be seen from the figure above the cramers rule becomes less precise as k becomes very small. This is also seen in SVD decomposition. The reason for this is down to float precision error which is created when preforming calculations.  \n",
    "Lu decomposition as seen on the figure above does not seem to vary as k becomes small, this shows that for small numbers this is the prefered method for highest precision, it doesnt suffer from the same problem as the others because it is a simpler process (lower complexity). This means that it would mean that the prefered algorithum would be LU demcomposition.\n",
    "\n"
   ]
  },
  {
   "cell_type": "markdown",
   "metadata": {},
   "source": [
    "## Q2\n",
    "This question is on eigenvalue problems.  \n",
    "\n",
    "## 2a)\n",
    "In this part you should write a function that will find the eigenvector/eigenvalues of a matrix A using \"Rayleigh quotient iteration\". The algorithm is as follows :\n",
    "\n",
    "1. An initial values for the eigenvalue $\\mu_0$ and eigenvector $b_0$ must be supplied\n",
    "\n",
    "2. The next approximation of the eigenvector is given by :\n",
    "$$b_{i+1} = \\frac{(A-\\mu_i I)^{-1}b_i}{|(A-\\mu_i I)^{-1}b_i|}$$\n",
    "\n",
    "3. The corresponding eigenvalue is given by :\n",
    "\n",
    "$$\\mu_{i+1} = \\frac{b^*_{i+1}Ab_{i+1}}{b^*_{i+1}b_{i+1}}$$\n",
    "\n",
    "4. Now iterate steps 2 and 3 until convergence is reached for a specified precision, ie.\n",
    "$$\\mu_{i+1} - \\mu < a_{tol}$$\n",
    "\n",
    "(Note that the numerator in 2. can also be found by solving $(A-\\mu_i I)x = b$) \n",
    "\n",
    "Your function should take arguments for the matrix A, the initial estimates of eigenvalue and eigenvector, and the precision required (ie. a convergence condition).\n",
    "\n",
    "You should use vector and matrix algebra routines from numpy and scipy.linalg for the operations described above.\n",
    "\n",
    "Explain the choices you made when writing this code in the text cell below."
   ]
  },
  {
   "cell_type": "code",
   "execution_count": null,
   "metadata": {
    "nbgrader": {
     "grade": true,
     "grade_id": "cell-ce86ca7e165dcbff",
     "locked": false,
     "points": 0,
     "schema_version": 1,
     "solution": true
    }
   },
   "outputs": [],
   "source": [
    "from scipy import linalg as LA\n",
    "import numpy as np\n",
    "\n",
    "def it(A,b,u,Atol):\n",
    "    I = np.identity(3)\n",
    "    tol = 1\n",
    "    n = 0\n",
    "    while tol != Atol:\n",
    "        btop = np.dot(  LA.inv(A-u*I) , b  )\n",
    "        bbtom = np.linalg.norm(btop)\n",
    "        b1 = btop/bbtom  \n",
    "        utop = np.dot(np.conj(b1).T, np.dot(A,b1))\n",
    "        ubtom = np.dot(np.conj(b1).T,b1)\n",
    "        u1 = utop/ubtom\n",
    "        tol = u - u1    \n",
    "        n = n+1   \n",
    "        u = u1\n",
    "        b = b1\n",
    "    return u1,b1,n\n",
    "        \n",
    "A = RADmat(3)\n",
    "b = np.array([[1],[1],[1]])\n",
    "u = -0.5\n",
    "x = it(A,b,u,0)\n",
    "print('eigenvalue', x[0])\n",
    "print('eigenvector\\n',x[1])\n",
    "print('Number of iterations: ',x[2])\n",
    "\n",
    "print('-----------------------------')\n",
    "print('Finding eigenvalues using scipy')\n",
    "e_vals,e_vecs = LA.eig(A)\n",
    "print (\"Eigenvalues\")\n",
    "print(e_vals)\n",
    "print (\"Eigenvectors\")\n",
    "print(e_vecs)\n",
    "\n",
    "\n"
   ]
  },
  {
   "cell_type": "markdown",
   "metadata": {
    "nbgrader": {
     "grade": true,
     "grade_id": "cell-aaf792272b74faa7",
     "locked": false,
     "points": 0,
     "schema_version": 1,
     "solution": true
    }
   },
   "source": [
    "This code produces a eigenvalue and corresponding eigenvector for a random matrix with values between -100,100. I have used the functions np.dot to multiply and used the scipy's linalg function to inverse any matrixes. Not i have then use the linalg.eig to find the eigen values and print them to beable to compare them outputs.\n",
    "We can see that the eigenvalues found corresponds to the second one found in the scipy.linalg function. And also the eigenvector correspons to the one in the in the second column."
   ]
  },
  {
   "cell_type": "markdown",
   "metadata": {},
   "source": [
    "### 2b)\n",
    "Now test your function using a matrix with known eigenvalues / vectors. You can use :\n",
    "$$\\left(\\begin{array}{ccc} 1 & 2 & 3 \\\\ 1 & 2 & 1 \\\\ 3 & 2 & 1 \\end{array}\\right)$$\n",
    "\n",
    "The leading eigenvalue of this matrix is $\\sqrt{5}+3$, which corresponds to the eigenvector :\n",
    "$$\\left(\\begin{array}{c} 1 \\\\ \\frac{\\sqrt(5)}{2} \\\\ 1 \\end{array}\\right)$$"
   ]
  },
  {
   "cell_type": "code",
   "execution_count": null,
   "metadata": {
    "nbgrader": {
     "grade": true,
     "grade_id": "cell-420b5ba8f75bfa21",
     "locked": false,
     "points": 0,
     "schema_version": 1,
     "solution": true
    }
   },
   "outputs": [],
   "source": [
    "A = np.array([[1,2,3],[1,2,1],[3,2,1]])\n",
    "b = np.array([[-2],[0],[-2]])\n",
    "u = 3\n",
    "x = it(A,b,u,0)\n",
    "print('eigenvalue', x[0])\n",
    "print('eigenvector\\n',x[1])\n",
    "print('Number of iterations: ',x[2])\n",
    "e_vals,e_vecs = LA.eig(A)\n",
    "print (\"Eigenvalues\")\n",
    "print(e_vals)\n",
    "print (\"Eigenvectors\")\n",
    "print(e_vecs)\n",
    "\n",
    "\n"
   ]
  },
  {
   "cell_type": "markdown",
   "metadata": {},
   "source": [
    "## 2c)\n",
    "Your function should find the largest eigenvalue of a matrix, along with it's corresponding eigenvector. Given that eigenvectors of a real symmetric matrix are orthogonal, can you think of a method to find the 2nd eigenvector of the above matrix ? How could you extend this to non-symmetric matrices ? Discuss in the text box below, and use the code cell below that if you want to write any code to demonstrate your answer. "
   ]
  },
  {
   "cell_type": "markdown",
   "metadata": {
    "nbgrader": {
     "grade": true,
     "grade_id": "cell-4e78ff7ada9534f2",
     "locked": false,
     "points": 0,
     "schema_version": 1,
     "solution": true
    }
   },
   "source": [
    "The other eigenvalues and eigenvectors can be found from choosing different intial eigenvalue and eigenvector, this is done below for the eigen value 0.7639. The same can be done for the other eigen value, -2. However the inital values and vector is harder to find."
   ]
  },
  {
   "cell_type": "code",
   "execution_count": null,
   "metadata": {
    "nbgrader": {
     "grade": true,
     "grade_id": "cell-dfd45ebbcc60b449",
     "locked": false,
     "points": 0,
     "schema_version": 1,
     "solution": true
    }
   },
   "outputs": [],
   "source": [
    "A = np.array([[1,2,3],[1,2,1],[3,2,1]])\n",
    "b = np.array([[0],[1],[0]])\n",
    "u = 3\n",
    "print(\"To find e_Vec for a different e_Value calculation used: \\n u =\", u)\n",
    "print(\"And inital vector: \\n\",b)\n",
    "\n",
    "x = it(A,b,u,0)\n",
    "print('eigenvalue', x[0])\n",
    "print('eigenvector\\n',x[1])\n",
    "print('Number of iterations: ',x[2])\n",
    "\n",
    "\n",
    "\n"
   ]
  },
  {
   "attachments": {
    "coupled-masses.png": {
     "image/png": "[encoded data removed]"
    }
   },
   "cell_type": "markdown",
   "metadata": {},
   "source": [
    "## Q3\n",
    "\n",
    "For this question you should write a function that will find the eigenvalues of the coupled system of oscillators shown below.\n",
    "\n",
    "![coupled-masses.png](attachment:coupled-masses.png)\n",
    "\n",
    "If the displacement of the $i$th mass from its equilibrium position is denoted as $x_i$, the force on the mass is given by the tension in the two springs as :\n",
    "\n",
    "$$F_i = −k(x_i − x_i−1) + k(x_i+1 − x_i) = −k(2x_i − x_i−1 − x_i+1)$$\n",
    "\n",
    "We can assume that there are normal mode solutions, i.e. solutions of the form $x_i = z_i e^{i\\omega t}$ in which all masses oscillate with the same frequency $\\omega$ but with unknown phasors $z_i$. Then the above equation becomes :\n",
    "\n",
    "$$F_i = m\\ddot{x}_i = −m\\omega^2x_i = −k(2x_i − x_i−1 − x_i+1)$$\n",
    "\n",
    "This is one row of a matrix equation describing the entire system :\n",
    "\n",
    "$$m\\omega^2x_i \\left(\\begin{array}{c} \\vdots \\\\ \\\\ x_i \\\\ \\\\ \\vdots \\end{array}\\right) = \n",
    "\\left(\\begin{array}{ccccccc} & & & \\vdots & & & \\\\ \\cdots & 0 & -1 & 2 & 1 & 0 & \\cdots \\\\ & & & \\vdots & & & \\end{array}\\right)\n",
    "\\left(\\begin{array}{c} \\vdots \\\\ x_{i-1} \\\\ x_i \\\\ x_{i+1} \\\\ \\vdots \\end{array}\\right)\n",
    "$$\n",
    "\n",
    "This example is a typical eigenvalue problem, in that many of the matrix elements are zero, which can greatly simplify the computational challenge and make even large systems solvable.\n",
    "\n",
    "## 3a)\n",
    "Write a function in the cell below that will calculate the normal modes and corresponding oscillation frequencies for a system of three identical masses connected by identical springs as shown above.\n",
    "\n",
    "As for previous questions, briefly describe how your code works and the choices you made when writing it in the text cell below."
   ]
  },
  {
   "cell_type": "code",
   "execution_count": null,
   "metadata": {
    "nbgrader": {
     "grade": true,
     "grade_id": "cell-d7eab03b4ae045aa",
     "locked": false,
     "points": 0,
     "schema_version": 1,
     "solution": true
    }
   },
   "outputs": [],
   "source": [
    "from scipy import linalg\n",
    "import matplotlib.pylab as plt\n",
    "from IPython.display import HTML\n",
    "\n",
    "from matplotlib import animation, rc\n",
    "A = np.array([[2,-1,0],[-1,2,-1],[0,-1,2]]) #I believe the matirx above is wrong and this is the correct version.\n",
    "t= np.linspace(0,20,200)\n",
    "dt = 20/200\n",
    "\n",
    "def e(lamda,t):\n",
    "    return np.exp(1.j*np.sqrt(lamda)*t)\n",
    "\n",
    "\n",
    "def MODE(t, option, e_vals,e_vecs):\n",
    "    lamda1 = e_vals[0].real\n",
    "    lamda2 = e_vals[1].real\n",
    "    lamda3 = e_vals[2].real\n",
    "    if option == 'MODE1':\n",
    "        MODE_x2 = e_vecs[1,0]*e(lamda1,t)\n",
    "        MODE_x1 = e_vecs[0,0]*e(lamda1,t)  - MODE_x2[0]  - 0.5  #sets inital conditions\n",
    "        MODE_x3 = e_vecs[2,0]*e(lamda1,t)  + MODE_x2[0] +0.5\n",
    "    if option == 'MODE2':\n",
    "        MODE_x2 = e_vecs[1,1]*e(lamda2,t)\n",
    "        MODE_x1 = e_vecs[0,1]*e(lamda2,t) - MODE_x2[0] -0.7\n",
    "        MODE_x3 = e_vecs[2,1]*e(lamda2,t) + MODE_x2[0] + 0.7\n",
    "    if option == 'MODE3':\n",
    "        MODE_x2 = e_vecs[1,2]*e(lamda3,t)\n",
    "        MODE_x1 = e_vecs[0,2]*e(lamda3,t)- MODE_x2[0]\n",
    "        MODE_x3 = e_vecs[2,2]*e(lamda3,t) + MODE_x2[0] \n",
    "    if not ('MODE1' or 'MODE2' or 'MODE3'):\n",
    "        raise Exception(\"INVALID INPUT\")\n",
    "    return MODE_x1, MODE_x2,MODE_x3\n",
    "\n",
    "\n",
    "e_vals,e_vecs = linalg.eig(A)    \n",
    "one = np.array([['x1'],['x2'],['x3']])\n",
    "print('Normal modes and frequencies are: \\n')\n",
    "print('MODE 1: \\n',one,' = ',e_vecs[:,0],'e^{iwt}','  Ocillation Frequency (w) =',round(e_vals[0].real,4))\n",
    "print('MODE 2: \\n',one,' = ',e_vecs[:,1],'e^{iwt}','  Ocillation Frequency (w) =',round(e_vals[1].real,4))\n",
    "print('MODE 3: \\n',one,' = ',e_vecs[:,2],'e^{iwt}','  Ocillation Frequency (w) =',round(e_vals[2].real,4))\n",
    "\n",
    "\n",
    "y = MODE(t,'MODE1', e_vals, e_vecs)\n",
    "\n",
    "plt.plot(t,y[0],linestyle='dashed',label='Mass 1')\n",
    "plt.plot(t,y[1],label='Mass 2')\n",
    "plt.plot(t,y[2],label='Mass 3')\n",
    "plt.title('Mode 1')\n",
    "plt.xlabel('Time (s)')\n",
    "plt.ylabel('X displacement')\n",
    "plt.legend()\n",
    "plt.show()\n",
    "\n",
    "y = MODE(t,'MODE2', e_vals, e_vecs)\n",
    "\n",
    "plt.plot(t,y[0],linestyle='dashed',label='Mass 1')\n",
    "plt.plot(t,y[1],label='Mass 2')\n",
    "plt.plot(t,y[2],label='Mass 3')\n",
    "plt.title('Mode 2')\n",
    "plt.xlabel('Time (s)')\n",
    "plt.ylabel('X displacement')\n",
    "plt.legend()\n",
    "plt.show()\n",
    "\n",
    "y = MODE(t,'MODE3', e_vals, e_vecs)\n",
    "\n",
    "plt.plot(t,y[0],linestyle='dashed',label='Mass 1')\n",
    "plt.plot(t,y[1],label='Mass 2')\n",
    "plt.plot(t,y[2],label='Mass 3')\n",
    "plt.title('Mode 3')\n",
    "plt.xlabel('Time (s)')\n",
    "plt.ylabel('X displacement')\n",
    "plt.legend()\n",
    "plt.show()\n",
    "\n"
   ]
  },
  {
   "cell_type": "markdown",
   "metadata": {
    "nbgrader": {
     "grade": true,
     "grade_id": "cell-9c06838344116545",
     "locked": false,
     "points": 0,
     "schema_version": 1,
     "solution": true
    }
   },
   "source": [
    "This code produces the eigenvalues and eigenvectors of the matrix equation above using scipy.linalg function (note that this equation is wrong as the $x_{i}$ is not supposed to be there) . It then  organises them to show and display the 3-normal modes and ocisllation frequencies. It then uses these to show how the modes change as a function of time. Note that these starting positions are not precisely accurate, but the general mode can be seen form the figures, above."
   ]
  },
  {
   "cell_type": "markdown",
   "metadata": {},
   "source": [
    "## 3b)\n",
    "Discuss your results above. Describe the physical interpretation of each mode you have found ? How does the behaviour change if the springs at either end are removed ?"
   ]
  },
  {
   "cell_type": "markdown",
   "metadata": {
    "nbgrader": {
     "grade": true,
     "grade_id": "cell-f81c988ef09f6afc",
     "locked": false,
     "points": 0,
     "schema_version": 1,
     "solution": true
    }
   },
   "source": [
    "### Answer:\n",
    "Each mode has a different physicsal interpretation, the figures above show this well but it can be better visualised with a small animation of the systems. The code below creates this animation for each mode, it also shows the position of the walls, which are just placed far enough away so it does not interfer with the animation.\n",
    "\n",
    "\n"
   ]
  },
  {
   "cell_type": "code",
   "execution_count": null,
   "metadata": {
    "scrolled": false
   },
   "outputs": [],
   "source": [
    "#Not that this can take afew seconds to load.\n",
    "from IPython.display import HTML\n",
    "\n",
    "dt = 20/200\n",
    "t= np.linspace(0,20,200)\n",
    "\n",
    "M = MODE(t,'MODE1',e_vals,e_vecs) #Change Mode Number here to see video of different Normal Modes.\n",
    "Mx1 = M[0]\n",
    "Mx2 =M[1]\n",
    "Mx3=M[2]\n",
    "\n",
    "fig = plt.figure()\n",
    "ax = fig.add_subplot(111, autoscale_on=False, xlim=(-2, 2), ylim=(-1, 1))\n",
    "ax.set_aspect('equal')\n",
    "ax.grid()\n",
    "\n",
    "line, = ax.plot([], [], 'o-', lw=1,ls='--',)\n",
    "\n",
    "time_template = 'time = %.1fs'\n",
    "time_text = ax.text(0.05, 0.9, '', transform=ax.transAxes)\n",
    "\n",
    "\n",
    "def init():\n",
    "    line.set_data([], [])\n",
    "    time_text.set_text('')\n",
    "    return line, time_text\n",
    "\n",
    "\n",
    "def animate(i):\n",
    "    thisx = [Mx1[i], Mx2[i], Mx3[i],-2,2] #change the mode number above to see different modes\n",
    "    thisy = [0, 0, 0,0,0]\n",
    "\n",
    "    line.set_data(thisx, thisy)\n",
    "    time_text.set_text(time_template % (i*dt))\n",
    "    return line, time_text\n",
    "\n",
    "\n",
    "ani = animation.FuncAnimation(fig, animate,\n",
    "                              interval=dt*1000, blit=True, init_func=init)\n",
    "\n",
    "HTML(ani.to_jshtml()) # creates a video to view the physical interpretation of the modes."
   ]
  },
  {
   "cell_type": "markdown",
   "metadata": {},
   "source": [
    "### WIthout springs at either end\n",
    "\n",
    "When the springs at each end are removed the Matrix Equation becomes:\n",
    "\n",
    "\\begin{equation}\n",
    "\\left [ \\begin{array}{c} \\ddot x_1 \\\\ \\ddot x_2 \\\\ \\ddot x_3  \\end{array} \\right ] =\\frac{k}{m} \\left [ \\begin{array}{ccc} \n",
    "  1 & -1 & 0\\\\ \n",
    " -1  & 2 & -1\\\\\n",
    "  0 & -1 & 1\\\\\n",
    "\\end{array} \\right ]\n",
    "\\left [ \\begin{array}{c} x_1 \\\\ x_2 \\\\ x_3 \\end{array} \\right ]\n",
    "\\end{equation} \n",
    "\n",
    "This can be solved just like the other matrix equaiton to give new normal modes and oscillation frequencies. Looking below, you can see that the difference are that the 3rd mode has now gone and the remaining 2 are similar to mode 1 and 2 when there are springs at either end, but these modes have different oscillation frequencies.\n"
   ]
  },
  {
   "cell_type": "code",
   "execution_count": null,
   "metadata": {},
   "outputs": [],
   "source": [
    "A = np.array([[1,-1,0],[-1,2,-1],[0,-1,1]])\n",
    "t= np.linspace(0,20,200)\n",
    "dt = 20/200\n",
    "e_vals,e_vecs = linalg.eig(A)\n",
    "\n",
    "one = np.array([['x1'],['x2'],['x3']])\n",
    "print('Normal modes and frequencies are: \\n')\n",
    "print('MODE 1: \\n',one,' = ',e_vecs[:,0],'e^{iwt}','  Ocillation Frequency (w) =',round(e_vals[0].real,2))\n",
    "print('MODE 2: \\n',one,' = ',e_vecs[:,1],'e^{iwt}','  Ocillation Frequency (w) =',round(e_vals[1].real,2))\n",
    "print('MODE 3: \\n',one,' = ',e_vecs[:,2],'e^{iwt}','  Ocillation Frequency (w) =',round(e_vals[2].real,2))\n",
    "print('*Note that there is no Mode 3 because w = 0*')\n",
    "\n",
    "\n",
    "y = MODE(t,'MODE1', e_vals, e_vecs)\n",
    "\n",
    "plt.plot(t,y[0],linestyle='dashed',label='Mass 1')\n",
    "plt.plot(t,y[1],label='Mass 2')\n",
    "plt.plot(t,y[2],label='Mass 3')\n",
    "plt.title('Mode 1')\n",
    "plt.xlabel('Time (s)')\n",
    "plt.legend()\n",
    "plt.show()\n",
    "\n",
    "y = MODE(t,'MODE2', e_vals, e_vecs)\n",
    "\n",
    "plt.plot(t,y[0],linestyle='dashed',label='Mass 1')\n",
    "plt.plot(t,y[1],label='Mass 2')\n",
    "plt.plot(t,y[2],label='Mass 3')\n",
    "plt.title('Mode 2')\n",
    "plt.xlabel('Time (s)')\n",
    "plt.legend()\n",
    "plt.show()\n",
    "\n"
   ]
  }
 ],
 "metadata": {
  "celltoolbar": "Create Assignment",
  "kernelspec": {
   "display_name": "Python 3",
   "language": "python",
   "name": "python3"
  },
  "language_info": {
   "codemirror_mode": {
    "name": "ipython",
    "version": 3
   },
   "file_extension": ".py",
   "mimetype": "text/x-python",
   "name": "python",
   "nbconvert_exporter": "python",
   "pygments_lexer": "ipython3",
   "version": "3.7.3"
  }
 },
 "nbformat": 4,
 "nbformat_minor": 2
}
